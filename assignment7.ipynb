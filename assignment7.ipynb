{
 "cells": [
  {
   "cell_type": "code",
   "execution_count": 33,
   "metadata": {},
   "outputs": [
    {
     "name": "stdout",
     "output_type": "stream",
     "text": [
      "[[0.37132203 0.52610541 0.96023185 0.39971742 0.03217921]\n",
      " [0.06440704 0.60198291 0.74891371 0.01687585 0.65832947]\n",
      " [0.73662444 0.174902   0.44948927 0.96320052 0.19621467]\n",
      " [0.04606857 0.0192748  0.26393446 0.75844431 0.25187531]\n",
      " [0.99365697 0.31095433 0.26169402 0.54241008 0.45735003]\n",
      " [0.60927919 0.55243336 0.63386736 0.81212404 0.46497178]\n",
      " [0.1040956  0.22234908 0.7922576  0.52342795 0.79708478]\n",
      " [0.6167696  0.91071301 0.47613066 0.85786709 0.377809  ]\n",
      " [0.2816667  0.66603419 0.69022958 0.59932598 0.77740247]\n",
      " [0.88062916 0.24649851 0.48877928 0.26160004 0.45363706]\n",
      " [0.63209298 0.42415692 0.81029242 0.02016428 0.82912053]\n",
      " [0.64122476 0.45632363 0.67826695 0.46004876 0.88568918]]\n",
      "The last row of the array is: [[0.64122476 0.45632363 0.67826695 0.46004876 0.88568918]]\n",
      "After updating the last row array becomes: [[0.37132203 0.52610541 0.96023185 0.39971742 0.03217921]\n",
      " [0.06440704 0.60198291 0.74891371 0.01687585 0.65832947]\n",
      " [0.73662444 0.174902   0.44948927 0.96320052 0.19621467]\n",
      " [0.04606857 0.0192748  0.26393446 0.75844431 0.25187531]\n",
      " [0.99365697 0.31095433 0.26169402 0.54241008 0.45735003]\n",
      " [0.60927919 0.55243336 0.63386736 0.81212404 0.46497178]\n",
      " [0.1040956  0.22234908 0.7922576  0.52342795 0.79708478]\n",
      " [0.6167696  0.91071301 0.47613066 0.85786709 0.377809  ]\n",
      " [0.2816667  0.66603419 0.69022958 0.59932598 0.77740247]\n",
      " [0.88062916 0.24649851 0.48877928 0.26160004 0.45363706]\n",
      " [0.63209298 0.42415692 0.81029242 0.02016428 0.82912053]\n",
      " [1.78       2.56       3.333      4.43       5.8796    ]]\n"
     ]
    }
   ],
   "source": [
    "#QUESTION 1\n",
    "import numpy as n\n",
    "arr =n.random.random((12,5))\n",
    "print(arr)\n",
    "print('The last row of the array is:',arr[11:12])\n",
    "arr[11]=[1.78,2.56,3.333,4.43,5.8796]\n",
    "print('After updating the last row array becomes:',arr)\n",
    "\n"
   ]
  },
  {
   "cell_type": "code",
   "execution_count": 29,
   "metadata": {},
   "outputs": [
    {
     "name": "stdout",
     "output_type": "stream",
     "text": [
      "[25 38 21  6 28 12 51 53  5 47  6 20 33 10 32 30 37 22 15 40 11 25 25 20\n",
      " 55 43 48 11 58 50 40 37 29 40  3 45 50 43 45 30 49 18 29 46  5 17 22 53\n",
      " 38 19 35 40 19 42  4 16 51 56 40 44]\n",
      "[[25 38 21  6 28]\n",
      " [12 51 53  5 47]\n",
      " [ 6 20 33 10 32]\n",
      " [30 37 22 15 40]\n",
      " [11 25 25 20 55]\n",
      " [43 48 11 58 50]\n",
      " [40 37 29 40  3]\n",
      " [45 50 43 45 30]\n",
      " [49 18 29 46  5]\n",
      " [17 22 53 38 19]\n",
      " [35 40 19 42  4]\n",
      " [16 51 56 40 44]]\n",
      "The maximun value in row  0 : 38\n",
      "The minimum value in row  0 : 6\n",
      "The maximun value in row  1 : 53\n",
      "The minimum value in row  1 : 5\n",
      "The maximun value in row  2 : 33\n",
      "The minimum value in row  2 : 6\n",
      "The maximun value in row  3 : 40\n",
      "The minimum value in row  3 : 15\n",
      "The maximun value in row  4 : 55\n",
      "The minimum value in row  4 : 11\n",
      "The maximun value in row  5 : 58\n",
      "The minimum value in row  5 : 11\n",
      "The maximun value in row  6 : 40\n",
      "The minimum value in row  6 : 3\n",
      "The maximun value in row  7 : 50\n",
      "The minimum value in row  7 : 30\n",
      "The maximun value in row  8 : 49\n",
      "The minimum value in row  8 : 5\n",
      "The maximun value in row  9 : 53\n",
      "The minimum value in row  9 : 17\n",
      "The maximun value in row  10 : 42\n",
      "The minimum value in row  10 : 4\n",
      "The maximun value in row  11 : 56\n",
      "The minimum value in row  11 : 16\n"
     ]
    }
   ],
   "source": [
    "#QUESTION 2\n",
    "arr2 = n.random.randint(1,60,60)\n",
    "print(arr2)\n",
    "arr3=arr2.reshape(12,5)\n",
    "print(arr3)\n",
    "i =0\n",
    "for row in arr3:\n",
    "    print('The maximun value in row ',i,':',max(row))\n",
    "    print('The minimum value in row ',i,':',min(row))\n",
    "    i+=1"
   ]
  }
 ],
 "metadata": {
  "kernelspec": {
   "display_name": "Python 3",
   "language": "python",
   "name": "python3"
  },
  "language_info": {
   "codemirror_mode": {
    "name": "ipython",
    "version": 3
   },
   "file_extension": ".py",
   "mimetype": "text/x-python",
   "name": "python",
   "nbconvert_exporter": "python",
   "pygments_lexer": "ipython3",
   "version": "3.11.5"
  }
 },
 "nbformat": 4,
 "nbformat_minor": 2
}
